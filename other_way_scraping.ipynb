{
 "cells": [
  {
   "cell_type": "code",
   "execution_count": 1,
   "metadata": {},
   "outputs": [],
   "source": [
    "import requests\n",
    "from bs4 import BeautifulSoup as BS\n",
    "import pandas as pd"
   ]
  },
  {
   "cell_type": "code",
   "execution_count": 2,
   "metadata": {
    "collapsed": true
   },
   "outputs": [],
   "source": [
    "url = 'http://www.datatau.com'"
   ]
  },
  {
   "cell_type": "code",
   "execution_count": 3,
   "metadata": {},
   "outputs": [],
   "source": [
    "r = requests.get(url)"
   ]
  },
  {
   "cell_type": "code",
   "execution_count": 4,
   "metadata": {
    "scrolled": true
   },
   "outputs": [],
   "source": [
    "html = r.text"
   ]
  },
  {
   "cell_type": "code",
   "execution_count": 5,
   "metadata": {},
   "outputs": [
    {
     "name": "stderr",
     "output_type": "stream",
     "text": [
      "/usr/local/lib/python3.4/dist-packages/bs4/__init__.py:181: UserWarning: No parser was explicitly specified, so I'm using the best available HTML parser for this system (\"lxml\"). This usually isn't a problem, but if you run this code on another system, or in a different virtual environment, it may use a different parser and behave differently.\n",
      "\n",
      "The code that caused this warning is on line 170 of the file /usr/lib/python3.4/runpy.py. To get rid of this warning, change code that looks like this:\n",
      "\n",
      " BeautifulSoup(YOUR_MARKUP})\n",
      "\n",
      "to this:\n",
      "\n",
      " BeautifulSoup(YOUR_MARKUP, \"lxml\")\n",
      "\n",
      "  markup_type=markup_type))\n"
     ]
    }
   ],
   "source": [
    "soup = BS(html)"
   ]
  },
  {
   "cell_type": "code",
   "execution_count": 6,
   "metadata": {},
   "outputs": [
    {
     "name": "stdout",
     "output_type": "stream",
     "text": [
      "<td align=\"right\" class=\"title\" valign=\"top\">1.</td>\n",
      "\n",
      "\n",
      "<td class=\"title\"><a href=\"https://jjude.com/ml-intro/\" rel=\"nofollow\">Introduction to machine learning</a><span class=\"comhead\"> (jjude.com) </span></td>\n",
      "\n",
      "\n",
      "<td align=\"right\" class=\"title\" valign=\"top\">2.</td>\n",
      "\n",
      "\n",
      "<td class=\"title\"><a href=\"https://www.ayasdi.com/blog/artificial-intelligence/lessons-learned-developing-an-enterprise-ai-strategy/\" rel=\"nofollow\">Lessons Learned from Deploying AI in the Enterprise</a><span class=\"comhead\"> (ayasdi.com) </span></td>\n",
      "\n",
      "\n",
      "<td align=\"right\" class=\"title\" valign=\"top\">3.</td>\n",
      "\n",
      "\n",
      "<td class=\"title\"><a href=\"https://medium.com/towards-data-science/probabiliy-theory-basics-4ef523ae0820\" rel=\"nofollow\">Probability theory basics</a><span class=\"comhead\"> (medium.com) </span></td>\n",
      "\n",
      "\n",
      "<td align=\"right\" class=\"title\" valign=\"top\">4.</td>\n",
      "\n",
      "\n",
      "<td class=\"title\"><a href=\"https://blog.statsbot.co/chatbots-machine-learning-e83698b1a91e\">Guide on building your own neural conversational agent</a><span class=\"comhead\"> (statsbot.co) </span></td>\n",
      "\n",
      "\n",
      "<td align=\"right\" class=\"title\" valign=\"top\">5.</td>\n",
      "\n",
      "\n",
      "<td class=\"title\"><a href=\"https://blog.insightdatascience.com/heart-disease-diagnosis-with-deep-learning-c2d92c27e730\">Heart Disease Diagnosis with Deep Learning</a><span class=\"comhead\"> (insightdatascience.com) </span></td>\n",
      "\n",
      "\n",
      "<td align=\"right\" class=\"title\" valign=\"top\">6.</td>\n",
      "\n",
      "\n",
      "<td class=\"title\"><a href=\"http://ikasi.ai/macroeconomics-pushing-data-science/\">How Macroeconomics Can Push Forward The Frontiers Of Data Science</a><span class=\"comhead\"> (ikasi.ai) </span></td>\n",
      "\n",
      "\n",
      "<td align=\"right\" class=\"title\" valign=\"top\">7.</td>\n",
      "\n",
      "\n",
      "<td class=\"title\"><a href=\"http://tomaugspurger.github.io/scalable-ml-01.html\">Scalable Machine Learning (Part 1) by @TomAugspurger</a><span class=\"comhead\"> (github.io) </span></td>\n",
      "\n",
      "\n",
      "<td align=\"right\" class=\"title\" valign=\"top\">8.</td>\n",
      "\n",
      "\n",
      "<td class=\"title\"><a href=\"https://medium.com/@nishantnikhil/pytorch-first-program-and-walk-through-ceb739134ab9\" rel=\"nofollow\">PyTorch - First implementation and a programmer's perspective</a><span class=\"comhead\"> (medium.com) </span></td>\n",
      "\n",
      "\n",
      "<td align=\"right\" class=\"title\" valign=\"top\">9.</td>\n",
      "\n",
      "\n",
      "<td class=\"title\"><a href=\"https://tsaprailis.com/2017/09/11/How-to-automate-creating-a-virtual-machine-for-data-science/\" rel=\"nofollow\">How to automate creating high end VMs on AWS for student data science projects</a><span class=\"comhead\"> (tsaprailis.com) </span></td>\n",
      "\n",
      "\n",
      "<td align=\"right\" class=\"title\" valign=\"top\">10.</td>\n",
      "\n",
      "\n",
      "<td class=\"title\"><a href=\"http://www.elasticmining.com/post/2015-12-24/gochas-using-pandas.html\">Gotchas of using the Pandas library</a><span class=\"comhead\"> (elasticmining.com) </span></td>\n",
      "\n",
      "\n",
      "<td align=\"right\" class=\"title\" valign=\"top\">11.</td>\n",
      "\n",
      "\n",
      "<td class=\"title\"><a href=\"http://sstreicher.com/trading-returns-upper-bound/\" rel=\"nofollow\">Calculating the upper bound on trading returns</a><span class=\"comhead\"> (sstreicher.com) </span></td>\n",
      "\n",
      "\n",
      "<td align=\"right\" class=\"title\" valign=\"top\">12.</td>\n",
      "\n",
      "\n",
      "<td class=\"title\"><a href=\"https://www.displayr.com/using-t-sne-to-visualize-data-before-prediction/\" rel=\"nofollow\">Dimensionality Reduction Using t-SNE</a><span class=\"comhead\"> (displayr.com) </span></td>\n",
      "\n",
      "\n",
      "<td align=\"right\" class=\"title\" valign=\"top\">13.</td>\n",
      "\n",
      "\n",
      "<td class=\"title\"><a href=\"https://www.citusdata.com/blog/2017/08/28/five-data-models-for-sharding/\" rel=\"nofollow\">Five sharding data models and which is right</a><span class=\"comhead\"> (citusdata.com) </span></td>\n",
      "\n",
      "\n",
      "<td align=\"right\" class=\"title\" valign=\"top\">14.</td>\n",
      "\n",
      "\n",
      "<td class=\"title\"><a href=\"https://bergvca.github.io/2017/08/29/citi-bike-kde.html\" rel=\"nofollow\">Kernel Density Estimation of NYC Citi Bike Availability</a><span class=\"comhead\"> (github.io) </span></td>\n",
      "\n",
      "\n",
      "<td align=\"right\" class=\"title\" valign=\"top\">15.</td>\n",
      "\n",
      "\n",
      "<td class=\"title\"><a href=\"https://elitedatascience.com/overfitting-in-machine-learning\">Overfitting in Machine Learning: What It Is and How to Prevent It</a><span class=\"comhead\"> (elitedatascience.com) </span></td>\n",
      "\n",
      "\n",
      "<td align=\"right\" class=\"title\" valign=\"top\">16.</td>\n",
      "\n",
      "\n",
      "<td class=\"title\"><a href=\"http://www.thedsinterview.com/\">The Data Science Interview: a training hub for data scientists job interviews!</a><span class=\"comhead\"> (thedsinterview.com) </span></td>\n",
      "\n",
      "\n",
      "<td align=\"right\" class=\"title\" valign=\"top\">17.</td>\n",
      "\n",
      "\n",
      "<td class=\"title\"><a href=\"https://github.com/crawles/automl_service\" rel=\"nofollow\">Deploy AutoML as a service using Flask</a><span class=\"comhead\"> (github.com) </span></td>\n",
      "\n",
      "\n",
      "<td align=\"right\" class=\"title\" valign=\"top\">18.</td>\n",
      "\n",
      "\n",
      "<td class=\"title\"><a href=\"https://blog.statsbot.co/time-series-prediction-using-recurrent-neural-networks-lstms-807fa6ca7f\">Forecasting future currency exchange rates with recurrent neural networks</a><span class=\"comhead\"> (statsbot.co) </span></td>\n",
      "\n",
      "\n",
      "<td align=\"right\" class=\"title\" valign=\"top\">19.</td>\n",
      "\n",
      "\n",
      "<td class=\"title\"><a href=\"http://www.craigkerstiens.com/2017/04/30/why-postgres-five-years-later/\" rel=\"nofollow\">Why use Postgres (Updated for last 5 years)</a><span class=\"comhead\"> (craigkerstiens.com) </span></td>\n",
      "\n",
      "\n",
      "<td align=\"right\" class=\"title\" valign=\"top\">20.</td>\n",
      "\n",
      "\n",
      "<td class=\"title\"><a href=\"http://www.michaelburge.us/2017/09/10/injecting-shellcode-to-speed-up-amazon-redshift.html\" rel=\"nofollow\">Injecting a Chess Engine into Amazon Redshift</a><span class=\"comhead\"> (michaelburge.us) </span></td>\n",
      "\n",
      "\n",
      "<td align=\"right\" class=\"title\" valign=\"top\">21.</td>\n",
      "\n",
      "\n",
      "<td class=\"title\"><a href=\"http://sharpsightlabs.com/blog/new-amazon-hq/\" rel=\"nofollow\">Analyzing possible cities for Amazon's new headquarters (using R)</a><span class=\"comhead\"> (sharpsightlabs.com) </span></td>\n",
      "\n",
      "\n",
      "<td align=\"right\" class=\"title\" valign=\"top\">22.</td>\n",
      "\n",
      "\n",
      "<td class=\"title\"><a href=\"http://migsena.com/build-and-visualize-word2vec-model-on-amazon-reviews/\" rel=\"nofollow\">Build and Visualize Word2Vec Model on Amazon Reviews</a><span class=\"comhead\"> (migsena.com) </span></td>\n",
      "\n",
      "\n",
      "<td align=\"right\" class=\"title\" valign=\"top\">23.</td>\n",
      "\n",
      "\n",
      "<td class=\"title\"><a href=\"https://eng.uber.com/michelangelo/\">Uber's ML Platform – Michelangelo</a><span class=\"comhead\"> (uber.com) </span></td>\n",
      "\n",
      "\n",
      "<td align=\"right\" class=\"title\" valign=\"top\">24.</td>\n",
      "\n",
      "\n",
      "<td class=\"title\"><a href=\"https://rrighart.github.io/GA/\" rel=\"nofollow\">Automating web analytics through Python</a><span class=\"comhead\"> (github.io) </span></td>\n",
      "\n",
      "\n",
      "<td align=\"right\" class=\"title\" valign=\"top\">25.</td>\n",
      "\n",
      "\n",
      "<td class=\"title\"><a href=\"https://jakevdp.github.io/PythonDataScienceHandbook/\">Python Data Science Handbook</a><span class=\"comhead\"> (github.io) </span></td>\n",
      "\n",
      "\n",
      "<td align=\"right\" class=\"title\" valign=\"top\">26.</td>\n",
      "\n",
      "\n",
      "<td class=\"title\"><a href=\"https://blog.algorithmia.com/becoming-a-10x-data-scientist/\">Becoming a 10x Data Scientist</a><span class=\"comhead\"> (algorithmia.com) </span></td>\n",
      "\n",
      "\n",
      "<td align=\"right\" class=\"title\" valign=\"top\">27.</td>\n",
      "\n",
      "\n",
      "<td class=\"title\"><a href=\"https://mike.place/2017/data-science-phd/\" rel=\"nofollow\">Learning git is not enough: becoming a data scientist after a science PhD</a><span class=\"comhead\"> (mike.place) </span></td>\n",
      "\n",
      "\n",
      "<td align=\"right\" class=\"title\" valign=\"top\">28.</td>\n",
      "\n",
      "\n",
      "<td class=\"title\"><a href=\"http://www.mbmlbook.com/index.html\" rel=\"nofollow\">Model-Based Machine Learning (Early Access): an online book</a><span class=\"comhead\"> (mbmlbook.com) </span></td>\n",
      "\n",
      "\n",
      "<td align=\"right\" class=\"title\" valign=\"top\">29.</td>\n",
      "\n",
      "\n",
      "<td class=\"title\"><a href=\"https://popup.dominodatalab.com/chicago/speakers/\" rel=\"nofollow\">Data and Analytics in Insurance: Current and Future Trends</a><span class=\"comhead\"> (dominodatalab.com) </span></td>\n",
      "\n",
      "\n",
      "<td align=\"right\" class=\"title\" valign=\"top\">30.</td>\n",
      "\n",
      "\n",
      "<td class=\"title\"><a href=\"http://sstreicher.com/system-information-content/\" rel=\"nofollow\">System information content</a><span class=\"comhead\"> (sstreicher.com) </span></td>\n",
      "\n",
      "\n",
      "<td class=\"title\"><a href=\"/x?fnid=w5FB42h8Za\" rel=\"nofollow\">More</a></td>\n",
      "\n",
      "\n"
     ]
    }
   ],
   "source": [
    "child = soup.find_all('td', {'class': 'title'})\n",
    "\n",
    "for each in child:\n",
    "    print(each)\n",
    "    print(\"\\n\")\n",
    "\n",
    "table = child[10].parent.parent\n",
    "\n",
    "data = table.find_all('tr')[:90]"
   ]
  },
  {
   "cell_type": "markdown",
   "metadata": {},
   "source": [
    "# format of data to be scrapped "
   ]
  },
  {
   "cell_type": "raw",
   "metadata": {
    "collapsed": true
   },
   "source": [
    "news = {\n",
    "    'title': None,\n",
    "    'link': None,\n",
    "    'points': None,\n",
    "    'user': None\n",
    "}"
   ]
  },
  {
   "cell_type": "code",
   "execution_count": 7,
   "metadata": {},
   "outputs": [
    {
     "data": {
      "text/plain": [
       "'jjude'"
      ]
     },
     "execution_count": 7,
     "metadata": {},
     "output_type": "execute_result"
    }
   ],
   "source": [
    "#data[1].span.text.split()[0]\n",
    "data[1].a.text"
   ]
  },
  {
   "cell_type": "code",
   "execution_count": 8,
   "metadata": {},
   "outputs": [
    {
     "data": {
      "text/plain": [
       "<a href=\"item?id=20668\">discuss</a>"
      ]
     },
     "execution_count": 8,
     "metadata": {},
     "output_type": "execute_result"
    }
   ],
   "source": [
    "data[1].find('td' , {'class' : 'subtext'}).find_all('a')[1]"
   ]
  },
  {
   "cell_type": "code",
   "execution_count": 9,
   "metadata": {},
   "outputs": [],
   "source": [
    "all_data = []\n",
    "for ix in range(0, len(data), 3):\n",
    "    d = {}\n",
    "    \n",
    "    d['title'] = data[ix].find_all('a')[1].text\n",
    "    d['link'] = data[ix].find_all('a')[1]['href']\n",
    "    d['points'] = data[ix+1].span.text.split()[0]\n",
    "    d['user'] = data[ix+1].a.text\n",
    "    \n",
    "    all_data.append(d)"
   ]
  },
  {
   "cell_type": "code",
   "execution_count": 10,
   "metadata": {
    "collapsed": true
   },
   "outputs": [],
   "source": [
    "info = pd.DataFrame(all_data)"
   ]
  },
  {
   "cell_type": "code",
   "execution_count": 11,
   "metadata": {},
   "outputs": [],
   "source": [
    "info.to_excel('datatau_other_way.xlsx')"
   ]
  }
 ],
 "metadata": {
  "kernelspec": {
   "display_name": "Python 2",
   "language": "python",
   "name": "python2"
  },
  "language_info": {
   "codemirror_mode": {
    "name": "ipython",
    "version": 3
   },
   "file_extension": ".py",
   "mimetype": "text/x-python",
   "name": "python",
   "nbconvert_exporter": "python",
   "pygments_lexer": "ipython3",
   "version": "3.4.3"
  }
 },
 "nbformat": 4,
 "nbformat_minor": 2
}
